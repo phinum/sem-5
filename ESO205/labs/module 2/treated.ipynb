{
 "cells": [
  {
   "cell_type": "code",
   "execution_count": 1,
   "metadata": {},
   "outputs": [],
   "source": [
    "import pandas as pd\n",
    "import numpy as np\n",
    "from reliability.Distributions import Weibull_Distribution\n",
    "import matplotlib.pyplot as plt"
   ]
  },
  {
   "cell_type": "code",
   "execution_count": 2,
   "metadata": {},
   "outputs": [],
   "source": [
    "a = [83.25, 85, 146.75,107.5,116.666,130.75,178.333, 97.5, 123.25, 90, 141.666, 107.5]"
   ]
  },
  {
   "cell_type": "code",
   "execution_count": 3,
   "metadata": {},
   "outputs": [],
   "source": [
    "l = 0.008\n",
    "t = 0.0016\n",
    "w = 0.003\n",
    "\n",
    "b = []\n",
    "\n",
    "for i in a:\n",
    "    b.append((i*l)/(w*t*t))"
   ]
  },
  {
   "cell_type": "code",
   "execution_count": 4,
   "metadata": {},
   "outputs": [
    {
     "data": {
      "text/plain": [
       "[86718749.99999999,\n",
       " 88541666.66666666,\n",
       " 152864583.33333328,\n",
       " 111979166.66666664,\n",
       " 121527083.33333331,\n",
       " 136197916.66666666,\n",
       " 185763541.66666663,\n",
       " 101562499.99999999,\n",
       " 128385416.66666664,\n",
       " 93749999.99999997,\n",
       " 147568749.99999994,\n",
       " 111979166.66666664]"
      ]
     },
     "execution_count": 4,
     "metadata": {},
     "output_type": "execute_result"
    }
   ],
   "source": [
    "b"
   ]
  },
  {
   "cell_type": "code",
   "execution_count": 5,
   "metadata": {},
   "outputs": [],
   "source": [
    "df = pd.DataFrame()\n",
    "df['a'] = a\n",
    "df['b'] = b"
   ]
  },
  {
   "cell_type": "code",
   "execution_count": 6,
   "metadata": {},
   "outputs": [],
   "source": [
    "df = df.sort_values('a')"
   ]
  },
  {
   "cell_type": "code",
   "execution_count": 7,
   "metadata": {},
   "outputs": [
    {
     "data": {
      "text/html": [
       "<div>\n",
       "<style scoped>\n",
       "    .dataframe tbody tr th:only-of-type {\n",
       "        vertical-align: middle;\n",
       "    }\n",
       "\n",
       "    .dataframe tbody tr th {\n",
       "        vertical-align: top;\n",
       "    }\n",
       "\n",
       "    .dataframe thead th {\n",
       "        text-align: right;\n",
       "    }\n",
       "</style>\n",
       "<table border=\"1\" class=\"dataframe\">\n",
       "  <thead>\n",
       "    <tr style=\"text-align: right;\">\n",
       "      <th></th>\n",
       "      <th>a</th>\n",
       "      <th>b</th>\n",
       "    </tr>\n",
       "  </thead>\n",
       "  <tbody>\n",
       "    <tr>\n",
       "      <th>0</th>\n",
       "      <td>83.25</td>\n",
       "      <td>8.67187e+07</td>\n",
       "    </tr>\n",
       "    <tr>\n",
       "      <th>1</th>\n",
       "      <td>85</td>\n",
       "      <td>8.85417e+07</td>\n",
       "    </tr>\n",
       "    <tr>\n",
       "      <th>9</th>\n",
       "      <td>90</td>\n",
       "      <td>9.375e+07</td>\n",
       "    </tr>\n",
       "    <tr>\n",
       "      <th>7</th>\n",
       "      <td>97.5</td>\n",
       "      <td>1.01562e+08</td>\n",
       "    </tr>\n",
       "    <tr>\n",
       "      <th>3</th>\n",
       "      <td>107.5</td>\n",
       "      <td>1.11979e+08</td>\n",
       "    </tr>\n",
       "    <tr>\n",
       "      <th>11</th>\n",
       "      <td>107.5</td>\n",
       "      <td>1.11979e+08</td>\n",
       "    </tr>\n",
       "    <tr>\n",
       "      <th>4</th>\n",
       "      <td>116.666</td>\n",
       "      <td>1.21527e+08</td>\n",
       "    </tr>\n",
       "    <tr>\n",
       "      <th>8</th>\n",
       "      <td>123.25</td>\n",
       "      <td>1.28385e+08</td>\n",
       "    </tr>\n",
       "    <tr>\n",
       "      <th>5</th>\n",
       "      <td>130.75</td>\n",
       "      <td>1.36198e+08</td>\n",
       "    </tr>\n",
       "    <tr>\n",
       "      <th>10</th>\n",
       "      <td>141.666</td>\n",
       "      <td>1.47569e+08</td>\n",
       "    </tr>\n",
       "    <tr>\n",
       "      <th>2</th>\n",
       "      <td>146.75</td>\n",
       "      <td>1.52865e+08</td>\n",
       "    </tr>\n",
       "    <tr>\n",
       "      <th>6</th>\n",
       "      <td>178.333</td>\n",
       "      <td>1.85764e+08</td>\n",
       "    </tr>\n",
       "  </tbody>\n",
       "</table>\n",
       "</div>"
      ],
      "text/plain": [
       "         a           b\n",
       "0    83.25 8.67187e+07\n",
       "1       85 8.85417e+07\n",
       "9       90   9.375e+07\n",
       "7     97.5 1.01562e+08\n",
       "3    107.5 1.11979e+08\n",
       "11   107.5 1.11979e+08\n",
       "4  116.666 1.21527e+08\n",
       "8   123.25 1.28385e+08\n",
       "5   130.75 1.36198e+08\n",
       "10 141.666 1.47569e+08\n",
       "2   146.75 1.52865e+08\n",
       "6  178.333 1.85764e+08"
      ]
     },
     "execution_count": 7,
     "metadata": {},
     "output_type": "execute_result"
    }
   ],
   "source": [
    "df"
   ]
  },
  {
   "cell_type": "code",
   "execution_count": null,
   "metadata": {},
   "outputs": [],
   "source": []
  },
  {
   "cell_type": "code",
   "execution_count": 8,
   "metadata": {},
   "outputs": [],
   "source": [
    "p = []\n",
    "\n",
    "for i in range(len(df['a'])):\n",
    "    p.append((i+1)/(13))"
   ]
  },
  {
   "cell_type": "code",
   "execution_count": 9,
   "metadata": {},
   "outputs": [
    {
     "data": {
      "text/plain": [
       "[0.07692307692307693,\n",
       " 0.15384615384615385,\n",
       " 0.23076923076923078,\n",
       " 0.3076923076923077,\n",
       " 0.38461538461538464,\n",
       " 0.46153846153846156,\n",
       " 0.5384615384615384,\n",
       " 0.6153846153846154,\n",
       " 0.6923076923076923,\n",
       " 0.7692307692307693,\n",
       " 0.8461538461538461,\n",
       " 0.9230769230769231]"
      ]
     },
     "execution_count": 9,
     "metadata": {},
     "output_type": "execute_result"
    }
   ],
   "source": [
    "p"
   ]
  },
  {
   "cell_type": "code",
   "execution_count": 10,
   "metadata": {},
   "outputs": [],
   "source": [
    "y = []\n",
    "\n",
    "for i in p:\n",
    "    y.append(np.log(np.log(1/(1-i))))"
   ]
  },
  {
   "cell_type": "code",
   "execution_count": 11,
   "metadata": {},
   "outputs": [
    {
     "data": {
      "text/plain": [
       "[-2.52519494083409,\n",
       " -1.789437658738315,\n",
       " -1.3380214184293209,\n",
       " -1.0004205007092843,\n",
       " -0.7225598929628262,\n",
       " -0.47958666677489836,\n",
       " -0.2572306095484253,\n",
       " -0.045508537322853454,\n",
       " 0.16437395476441694,\n",
       " 0.38276750117881114,\n",
       " 0.6269016977393765,\n",
       " 0.9419387347481114]"
      ]
     },
     "execution_count": 11,
     "metadata": {},
     "output_type": "execute_result"
    }
   ],
   "source": [
    "y"
   ]
  },
  {
   "cell_type": "code",
   "execution_count": 12,
   "metadata": {},
   "outputs": [],
   "source": [
    "x = []\n",
    "\n",
    "for i in df['b']:\n",
    "    x.append(np.log(i))"
   ]
  },
  {
   "cell_type": "code",
   "execution_count": 13,
   "metadata": {},
   "outputs": [
    {
     "data": {
      "text/plain": [
       "[18.27818068134508,\n",
       " 18.298983808974846,\n",
       " 18.356142222814793,\n",
       " 18.43618493048833,\n",
       " 18.533823400052245,\n",
       " 18.533823400052245,\n",
       " 18.615647703997837,\n",
       " 18.67054736540733,\n",
       " 18.729619655429563,\n",
       " 18.80980472684741,\n",
       " 18.845063011192735,\n",
       " 19.0399851415518]"
      ]
     },
     "execution_count": 13,
     "metadata": {},
     "output_type": "execute_result"
    }
   ],
   "source": [
    "x"
   ]
  },
  {
   "cell_type": "code",
   "execution_count": 14,
   "metadata": {},
   "outputs": [
    {
     "data": {
      "text/plain": [
       "array([  4.20110887, -78.62585045])"
      ]
     },
     "execution_count": 14,
     "metadata": {},
     "output_type": "execute_result"
    }
   ],
   "source": [
    "res = np.polyfit(x,y,1)\n",
    "res"
   ]
  },
  {
   "cell_type": "code",
   "execution_count": 15,
   "metadata": {},
   "outputs": [
    {
     "data": {
      "text/plain": [
       "134288279.21099243"
      ]
     },
     "execution_count": 15,
     "metadata": {},
     "output_type": "execute_result"
    }
   ],
   "source": [
    "sig = np.exp(-res[1]/res[0])\n",
    "sig"
   ]
  },
  {
   "cell_type": "code",
   "execution_count": 16,
   "metadata": {},
   "outputs": [
    {
     "data": {
      "image/png": "[encoded data removed]",
      "text/plain": [
       "<Figure size 432x288 with 1 Axes>"
      ]
     },
     "metadata": {
      "needs_background": "light"
     },
     "output_type": "display_data"
    }
   ],
   "source": [
    "\n",
    "dist = Weibull_Distribution(alpha=134288279.21099243, beta=4.20110887)  # this created the distribution object\n",
    "dist.PDF()  # this creates the plot of the PDF\n",
    "plt.show()"
   ]
  },
  {
   "cell_type": "code",
   "execution_count": null,
   "metadata": {},
   "outputs": [],
   "source": []
  }
 ],
 "metadata": {
  "kernelspec": {
   "display_name": "Python 3",
   "language": "python",
   "name": "python3"
  },
  "language_info": {
   "codemirror_mode": {
    "name": "ipython",
    "version": 3
   },
   "file_extension": ".py",
   "mimetype": "text/x-python",
   "name": "python",
   "nbconvert_exporter": "python",
   "pygments_lexer": "ipython3",
   "version": "3.8.5"
  }
 },
 "nbformat": 4,
 "nbformat_minor": 4
}
